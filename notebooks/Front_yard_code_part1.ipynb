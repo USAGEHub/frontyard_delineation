{
 "cells": [
  {
   "cell_type": "markdown",
   "id": "b51b6ecd",
   "metadata": {},
   "source": [
    "# Select frontpoints"
   ]
  },
  {
   "cell_type": "code",
   "execution_count": 5,
   "id": "6e8940ed",
   "metadata": {},
   "outputs": [
    {
     "name": "stdout",
     "output_type": "stream",
     "text": [
      "Requirement already satisfied: geopandas in c:\\workdir\\programs\\bin\\python\\envs\\arcgispro-py3\\lib\\site-packages (1.0.1)\n",
      "Requirement already satisfied: numpy>=1.22 in c:\\workdir\\programs\\bin\\python\\envs\\arcgispro-py3\\lib\\site-packages (from geopandas) (1.24.3)\n",
      "Requirement already satisfied: pyogrio>=0.7.2 in c:\\workdir\\programs\\bin\\python\\envs\\arcgispro-py3\\lib\\site-packages (from geopandas) (0.10.0)\n",
      "Requirement already satisfied: packaging in c:\\workdir\\programs\\bin\\python\\envs\\arcgispro-py3\\lib\\site-packages (from geopandas) (23.2)\n",
      "Requirement already satisfied: pandas>=1.4.0 in c:\\workdir\\programs\\bin\\python\\envs\\arcgispro-py3\\lib\\site-packages (from geopandas) (2.0.2)\n",
      "Requirement already satisfied: pyproj>=3.3.0 in c:\\workdir\\programs\\bin\\python\\envs\\arcgispro-py3\\lib\\site-packages (from geopandas) (3.7.0)\n",
      "Requirement already satisfied: shapely>=2.0.0 in c:\\workdir\\programs\\bin\\python\\envs\\arcgispro-py3\\lib\\site-packages (from geopandas) (2.0.6)\n",
      "Requirement already satisfied: python-dateutil>=2.8.2 in c:\\workdir\\programs\\bin\\python\\envs\\arcgispro-py3\\lib\\site-packages (from pandas>=1.4.0->geopandas) (2.8.2)\n",
      "Requirement already satisfied: pytz>=2020.1 in c:\\workdir\\programs\\bin\\python\\envs\\arcgispro-py3\\lib\\site-packages\\pytz-2022.6-py3.11.egg (from pandas>=1.4.0->geopandas) (2022.6)\n",
      "Requirement already satisfied: tzdata>=2022.1 in c:\\workdir\\programs\\bin\\python\\envs\\arcgispro-py3\\lib\\site-packages (from pandas>=1.4.0->geopandas) (2024.2)\n",
      "Requirement already satisfied: certifi in c:\\workdir\\programs\\bin\\python\\envs\\arcgispro-py3\\lib\\site-packages (from pyogrio>=0.7.2->geopandas) (2024.2.2)\n",
      "Requirement already satisfied: six>=1.5 in c:\\workdir\\programs\\bin\\python\\envs\\arcgispro-py3\\lib\\site-packages (from python-dateutil>=2.8.2->pandas>=1.4.0->geopandas) (1.16.0)\n"
     ]
    },
    {
     "name": "stderr",
     "output_type": "stream",
     "text": [
      "DEPRECATION: tensorflow model has a non-standard version number. pip 24.0 will enforce this behaviour change. A possible replacement is to upgrade to a newer version of tensorflow or contact the author to suggest that they release a version with a conforming version number. Discussion can be found at https://github.com/pypa/pip/issues/12063\n"
     ]
    }
   ],
   "source": [
    "!pip install geopandas"
   ]
  },
  {
   "cell_type": "code",
   "execution_count": 6,
   "id": "cba53959",
   "metadata": {},
   "outputs": [],
   "source": [
    "#import the packages needed\n",
    "import geopandas as gpd\n",
    "from shapely.geometry import LineString, box\n",
    "from shapely.ops import split\n",
    "import matplotlib.pyplot as plt"
   ]
  },
  {
   "cell_type": "markdown",
   "id": "7069aef2",
   "metadata": {},
   "source": [
    "## Funtion definition "
   ]
  },
  {
   "cell_type": "code",
   "execution_count": 7,
   "id": "f5159771",
   "metadata": {},
   "outputs": [],
   "source": [
    "def select_frontyard_facadeline(points_length, residential_plots, output_path):\n",
    "    \n",
    "    #start loading the input files into gdf\n",
    "     #residential plots\n",
    "    res_plots = residential_plots\n",
    "    rplots_gdf = gpd.read_file(res_plots)\n",
    "\n",
    "    #points that include the lenth to the clossest road\n",
    "    points_lenth = points_length\n",
    "    pointslenth_gdb = gpd.read_file(points_lenth)\n",
    "    \n",
    "    #create groups that contain the points for each plot\n",
    "    grouped = pointslenth_gdb.groupby('CAPAKEY')\n",
    "    \n",
    "    # Function to select the two points with shortest distances within each group\n",
    "    def select_two_smallest(group):\n",
    "        return group.nsmallest(2, 'NEAR_DIST')\n",
    "    \n",
    "    # Select the two points with the smallest distances within each group\n",
    "    points_smallest = grouped.apply(select_two_smallest).reset_index(drop=True)\n",
    "    \n",
    "    \n",
    "    #the following part wil connect these 2 points to create the 'front'-line of the house\n",
    "    # Group points by 'group' column (CAPAKEY)\n",
    "    grouped_points = points_smallest.groupby('CAPAKEY')\n",
    "\n",
    "    # Create an empty list to store LineString geometries\n",
    "    lines_list = []\n",
    "    \n",
    "    # Iterate over each group\n",
    "    for group_name, group_data in grouped_points:\n",
    "        # If there's only one point in the group, skip it (can't create a line with just one point)\n",
    "        if len(group_data) < 2:\n",
    "            continue\n",
    "\n",
    "        # Create a LineString geometry from the points in the group\n",
    "        line = LineString(group_data.geometry.tolist())\n",
    "\n",
    "        # Append the LineString to the list\n",
    "        lines_list.append({'CAPAKEY': group_name, 'geometry': line})\n",
    "    \n",
    "    # Create a new GeoDataFrame from the list of LineString geometries\n",
    "    lines = gpd.GeoDataFrame(lines_list, geometry='geometry')\n",
    "    \n",
    "    \n",
    "    #the next part will extend the lines, first overextend and then cut it to the edges of the shape\n",
    "    #Function to extend a line in both directions\n",
    "    def extend_line(line, extension_distance):\n",
    "        # Get the start and end points of the line\n",
    "        start_point = line.coords[0]\n",
    "        end_point = line.coords[-1]\n",
    "\n",
    "        # Calculate the direction vector of the line\n",
    "        dx = end_point[0] - start_point[0]\n",
    "        dy = end_point[1] - start_point[1]\n",
    "\n",
    "        # Extend the line in both directions\n",
    "        extended_start = (start_point[0] - extension_distance * dx, start_point[1] - extension_distance * dy)\n",
    "        extended_end = (end_point[0] + extension_distance * dx, end_point[1] + extension_distance * dy)\n",
    "\n",
    "        # Create the extended line\n",
    "        extended_line = LineString([extended_start, extended_end])\n",
    "\n",
    "        return extended_line\n",
    "    \n",
    "    # Extension distance\n",
    "    extension_distance = 1000  # Adjust as needed\n",
    "\n",
    "    # Create an empty list to store LineString geometries\n",
    "    extended_lines_list = []\n",
    "\n",
    "    # Iterate over each line\n",
    "    for index, row in lines.iterrows():\n",
    "        line = row['geometry']\n",
    "        capakey = row['CAPAKEY'] #extract capakey from original\n",
    "\n",
    "        # Extend the line\n",
    "        extended_line = extend_line(line, extension_distance)\n",
    "\n",
    "        # Append the extended line to the list\n",
    "        extended_lines_list.append({'CAPAKEY': capakey, 'geometry': extended_line})\n",
    "\n",
    "    # Create a new GeoDataFrame from the list of extended LineString geometries\n",
    "    extended_lines = gpd.GeoDataFrame(extended_lines_list, geometry='geometry')\n",
    "    \n",
    "    # Create an empty list to store the cut LineString geometries\n",
    "    cut_lines_list = []\n",
    "    \n",
    "    # Iterate over each line to cut it down\n",
    "    for index, row in extended_lines.iterrows():\n",
    "        # Get the CAPAKEY of the line\n",
    "        line = row['geometry']\n",
    "        capakey = row['CAPAKEY']\n",
    "\n",
    "        # Get the corresponding polygon\n",
    "        polygon = rplots_gdf[rplots_gdf['CAPAKEY'] == capakey].geometry.iloc[0]\n",
    "\n",
    "        # Perform intersection between the line and the polygon\n",
    "        intersection = line.intersection(polygon)\n",
    "\n",
    "        # Check if the intersection result is not empty and is a LineString or MultiLineString\n",
    "        if not intersection.is_empty and (\n",
    "                intersection.geom_type == 'LineString' or intersection.geom_type == 'MultiLineString'):\n",
    "            # Append the valid intersection to the list of cut lines\n",
    "            cut_lines_list.append({'CAPAKEY': capakey, 'geometry': intersection})\n",
    "    \n",
    "    # Create a new GeoDataFrame from the list of cut LineString geometries\n",
    "    cut_lines = gpd.GeoDataFrame(cut_lines_list, geometry='geometry')\n",
    "\n",
    "    # Set the CRS\n",
    "    cut_lines.set_crs(epsg=31370, inplace=True)\n",
    "\n",
    "    # Export to a shapefile\n",
    "    cut_lines.to_file(output_path, driver='ESRI Shapefile')\n",
    "    \n",
    "    \"\"\"\n",
    "    # Plot the first layer (layer1)\n",
    "    ax = rplots_gdf.plot(color='blue', edgecolor='black', alpha=0.5, label='Layer 1')\n",
    "\n",
    "    # Plot the second layer (layer2) on the same axes\n",
    "    points_smallest.plot(ax=ax, color='red', edgecolor='black', alpha=0.5, label='Layer 2')\n",
    "\n",
    "    #plit the thirt layer on the same axis\n",
    "    cut_lines.plot(ax=ax, color='green', edgecolor='black', alpha=0.5, label='Layer 3')\n",
    "\n",
    "    # Customize the plot (add title, legend, etc.)\n",
    "    plt.legend()\n",
    "    # Show the plot\n",
    "    plt.show()\n",
    "    \"\"\"\n",
    "    \n",
    "    return print('Finished')"
   ]
  },
  {
   "cell_type": "markdown",
   "id": "fecf1842",
   "metadata": {},
   "source": [
    "## Execute funtion"
   ]
  },
  {
   "cell_type": "code",
   "execution_count": 8,
   "id": "4c2ebe52",
   "metadata": {},
   "outputs": [
    {
     "name": "stdout",
     "output_type": "stream",
     "text": [
      "Finished\n"
     ]
    }
   ],
   "source": [
    "filepath_1= r\"J:\\SET-SADL_User-DI0222\\Projecten\\H-USAGE\\Usecases\\Models_EVB\\data\\facade_points_studyarea_distance\\facade_points_studyarea.shp\"\n",
    "filepath_2= r'J:\\SET-SADL_User-DI0222\\Projecten\\H-USAGE\\Usecases\\Models_EVB\\data\\residential_plots\\residential_plots_municip.shp'\n",
    "filepath_3= r'J:\\SET-SADL_User-DI0222\\Projecten\\H-USAGE\\Usecases\\Models_EVB\\data\\front_lines_buildings\\cut_frontlines.shp'\n",
    "select_frontyard_facadeline(filepath_1, filepath_2, filepath_3)"
   ]
  },
  {
   "cell_type": "code",
   "execution_count": null,
   "id": "88bd0b19",
   "metadata": {},
   "outputs": [],
   "source": []
  }
 ],
 "metadata": {
  "kernelspec": {
   "display_name": "Python 3 (ipykernel)",
   "language": "python",
   "name": "python3"
  },
  "language_info": {
   "codemirror_mode": {
    "name": "ipython",
    "version": 3
   },
   "file_extension": ".py",
   "mimetype": "text/x-python",
   "name": "python",
   "nbconvert_exporter": "python",
   "pygments_lexer": "ipython3",
   "version": "3.11.8"
  }
 },
 "nbformat": 4,
 "nbformat_minor": 5
}
