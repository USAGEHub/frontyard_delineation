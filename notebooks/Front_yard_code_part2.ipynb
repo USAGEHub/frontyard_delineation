{
 "cells": [
  {
   "cell_type": "markdown",
   "id": "8465ec75",
   "metadata": {},
   "source": [
    "# Select frontyard polygons"
   ]
  },
  {
   "cell_type": "code",
   "execution_count": 1,
   "id": "7a212311-4123-48f0-b432-7af926622501",
   "metadata": {},
   "outputs": [
    {
     "name": "stdout",
     "output_type": "stream",
     "text": [
      "Defaulting to user installation because normal site-packages is not writeable\n",
      "Requirement already satisfied: geopandas in c:\\users\\u0167935\\appdata\\roaming\\python\\python311\\site-packages (1.0.1)\n",
      "Requirement already satisfied: numpy>=1.22 in c:\\programdata\\anaconda3\\lib\\site-packages (from geopandas) (1.26.4)\n",
      "Requirement already satisfied: pyogrio>=0.7.2 in c:\\users\\u0167935\\appdata\\roaming\\python\\python311\\site-packages (from geopandas) (0.10.0)\n",
      "Requirement already satisfied: packaging in c:\\programdata\\anaconda3\\lib\\site-packages (from geopandas) (23.1)\n",
      "Requirement already satisfied: pandas>=1.4.0 in c:\\programdata\\anaconda3\\lib\\site-packages (from geopandas) (2.1.4)\n",
      "Requirement already satisfied: pyproj>=3.3.0 in c:\\users\\u0167935\\appdata\\roaming\\python\\python311\\site-packages (from geopandas) (3.7.0)\n",
      "Requirement already satisfied: shapely>=2.0.0 in c:\\users\\u0167935\\appdata\\roaming\\python\\python311\\site-packages (from geopandas) (2.0.6)\n",
      "Requirement already satisfied: python-dateutil>=2.8.2 in c:\\programdata\\anaconda3\\lib\\site-packages (from pandas>=1.4.0->geopandas) (2.8.2)\n",
      "Requirement already satisfied: pytz>=2020.1 in c:\\programdata\\anaconda3\\lib\\site-packages (from pandas>=1.4.0->geopandas) (2023.3.post1)\n",
      "Requirement already satisfied: tzdata>=2022.1 in c:\\programdata\\anaconda3\\lib\\site-packages (from pandas>=1.4.0->geopandas) (2023.3)\n",
      "Requirement already satisfied: certifi in c:\\programdata\\anaconda3\\lib\\site-packages (from pyogrio>=0.7.2->geopandas) (2024.8.30)\n",
      "Requirement already satisfied: six>=1.5 in c:\\programdata\\anaconda3\\lib\\site-packages (from python-dateutil>=2.8.2->pandas>=1.4.0->geopandas) (1.16.0)\n"
     ]
    }
   ],
   "source": [
    "!pip install geopandas"
   ]
  },
  {
   "cell_type": "code",
   "execution_count": 2,
   "id": "b7f418af",
   "metadata": {},
   "outputs": [],
   "source": [
    "#import needed packages\n",
    "import pandas as pd\n",
    "import geopandas as gpd\n",
    "import matplotlib.pyplot as plt\n",
    "import numpy as np"
   ]
  },
  {
   "cell_type": "markdown",
   "id": "dcadd5d6",
   "metadata": {},
   "source": [
    "## Funtion definition"
   ]
  },
  {
   "cell_type": "code",
   "execution_count": 3,
   "id": "6bfddc6c",
   "metadata": {},
   "outputs": [],
   "source": [
    "# the polygons are split into parts in ArcGIS Pro, here we select the frontyard part"
   ]
  },
  {
   "cell_type": "code",
   "execution_count": 4,
   "id": "fb494375",
   "metadata": {},
   "outputs": [],
   "source": [
    "def select_frontyard_polygon(split_plots, buildings, ouput_path_file):\n",
    "    \n",
    "    #open files\n",
    "    #open split plots file\n",
    "    split_plots = gpd.read_file(split_plots)\n",
    "\n",
    "    #open building file\n",
    "    buildings = gpd.read_file(buildings)  \n",
    "    \n",
    "    \"\"\"\n",
    "    print(split_plots.head())\n",
    "    print(buildings.head())\n",
    "    print(split_plots.crs)\n",
    "    print(buildings.crs)\n",
    "    \"\"\"\n",
    "\n",
    "    \n",
    "    #Spatial join to identify overlapping polygons\n",
    "    joined = gpd.sjoin(split_plots, buildings, how=\"left\", predicate=\"intersects\")\n",
    "    \n",
    "    #print(joined.head())\n",
    "\n",
    "    \n",
    "    #Initialize an empty DataFrame to store the selected polygons\n",
    "    selected_polygons = []\n",
    "\n",
    "    # Iterate over unique CAPAKEY values\n",
    "    for capakey in joined[\"CAPAKEY_1\"].unique():\n",
    "        \n",
    "        # Filter joined DataFrame for the current CAPAKEY\n",
    "        subset = joined[joined[\"CAPAKEY_1\"] == capakey]\n",
    "        \n",
    "        # Check if there's more than one polygon in the original plots layer with the same CAPAKEY\n",
    "        if len(split_plots[split_plots[\"CAPAKEY_1\"] == capakey]) > 1:\n",
    "            # Check if there's only one polygon in the subset\n",
    "            if len(subset) > 1:\n",
    "                # Calculate the overlap area for each polygon in the subset\n",
    "                overlap_areas = subset.geometry.intersection(subset.geometry).area\n",
    "                \n",
    "                # Find the minimum overlap area\n",
    "                min_overlap_area = overlap_areas.min()\n",
    "\n",
    "                # If the minimum overlap area is 0, assign a large value (np.inf) to ensure it's selected\n",
    "                if min_overlap_area == 0:\n",
    "                    min_overlap_area = np.inf\n",
    "\n",
    "                # Find the index of the polygon with the minimum overlap area\n",
    "                min_overlap_index = overlap_areas.idxmin()\n",
    "\n",
    "                # Append the polygon with the minimum overlap area to the selected_polygons list\n",
    "                selected_polygons.append(split_plots.loc[min_overlap_index])\n",
    "        \n",
    "                    \n",
    "    # Create a GeoDataFrame from the selected polygons\n",
    "    selected_plots_gdf = gpd.GeoDataFrame(selected_polygons, crs=split_plots.crs)\n",
    "\n",
    "    # Export to a shapefile\n",
    "    selected_plots_gdf.to_file(ouput_path_file, driver='ESRI Shapefile')\n",
    "    \n",
    "    \n",
    "    \"\"\"\n",
    "    # Plot the selected plots\n",
    "    fig, ax = plt.subplots(figsize=(10, 10))\n",
    "    selected_plots_gdf.plot(ax=ax, edgecolor='black', facecolor='none')\n",
    "\n",
    "    # Add title and labels\n",
    "    ax.set_title('Selected Plots')\n",
    "    ax.set_xlabel('Longitude')\n",
    "    ax.set_ylabel('Latitude')\n",
    "\n",
    "    # Show the plot\n",
    "    plt.show()\n",
    "    \"\"\"\n",
    "\n",
    "    return print(\"Finished\")"
   ]
  },
  {
   "cell_type": "markdown",
   "id": "f84a5edb",
   "metadata": {},
   "source": [
    "## Execute funtion"
   ]
  },
  {
   "cell_type": "code",
   "execution_count": 5,
   "id": "5b7bddef",
   "metadata": {},
   "outputs": [
    {
     "name": "stdout",
     "output_type": "stream",
     "text": [
      "Finished\n"
     ]
    }
   ],
   "source": [
    "split_plots_path = r'J:\\SET-SADL_User-DI0222\\Projecten\\H-USAGE\\Usecases\\Models_EVB\\data\\residential_plots_joined\\residential_plot_SpatialJoin.shp'\n",
    "buildings_path = r'J:\\SET-SADL_User-DI0222\\Projecten\\H-USAGE\\Usecases\\Models_EVB\\data\\residential_buildings_area\\recidential_buildings_municipalities.shp'\n",
    "output_path = r'J:\\SET-SADL_User-DI0222\\Projecten\\H-USAGE\\Usecases\\Models_EVB\\data\\frontyards_polygons\\frontyards.shp'\n",
    "select_frontyard_polygon(split_plots_path, buildings_path, output_path)"
   ]
  },
  {
   "cell_type": "code",
   "execution_count": null,
   "id": "a2ae511b",
   "metadata": {},
   "outputs": [],
   "source": []
  }
 ],
 "metadata": {
  "kernelspec": {
   "display_name": "base",
   "language": "python",
   "name": "python3"
  },
  "language_info": {
   "codemirror_mode": {
    "name": "ipython",
    "version": 3
   },
   "file_extension": ".py",
   "mimetype": "text/x-python",
   "name": "python",
   "nbconvert_exporter": "python",
   "pygments_lexer": "ipython3",
   "version": "3.11.7"
  }
 },
 "nbformat": 4,
 "nbformat_minor": 5
}
